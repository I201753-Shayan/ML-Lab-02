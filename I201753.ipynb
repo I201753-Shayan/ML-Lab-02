{
 "cells": [
  {
   "cell_type": "markdown",
   "id": "5d0d698c",
   "metadata": {},
   "source": [
    "# Task-1 (Virtual Environment)"
   ]
  },
  {
   "cell_type": "code",
   "execution_count": 42,
   "id": "d0f92d40",
   "metadata": {},
   "outputs": [],
   "source": [
    "#Screenshot is attatched in gcr"
   ]
  },
  {
   "cell_type": "markdown",
   "id": "d81ef23d",
   "metadata": {},
   "source": [
    "# Task-2 (Classes)"
   ]
  },
  {
   "cell_type": "markdown",
   "id": "fe59ec82",
   "metadata": {},
   "source": [
    "## Parent Class "
   ]
  },
  {
   "cell_type": "code",
   "execution_count": 11,
   "id": "9f7eb7ac",
   "metadata": {},
   "outputs": [],
   "source": [
    "class Course():\n",
    "    def __init__ (self,Cname,Ccode,Chours):\n",
    "        self.name=Cname\n",
    "        self.code=Ccode\n",
    "        self.hours=Chours\n",
    "     \n",
    "    #Protected\n",
    "    def _Cinstructor (self,CIname,CIid):\n",
    "        self.instructor=CIname\n",
    "        self.Instructor_Id=CIid\n",
    "        \n",
    "    #Private\n",
    "    def __Privatedisplay(self):\n",
    "        print(f\"{self.name}, {self.code} having {self.hours} credit hours is being taught by {self.instructor}, {self.Instructor_Id}\")\n",
    "        \n",
    "    #public\n",
    "    def PublicDisplay (self):\n",
    "        self.__Privatedisplay()"
   ]
  },
  {
   "cell_type": "code",
   "execution_count": 39,
   "id": "a8d63e7e",
   "metadata": {},
   "outputs": [
    {
     "name": "stdout",
     "output_type": "stream",
     "text": [
      "PF, CS1002 having 3 credit hours is being taught by Hassan, 11092\n"
     ]
    }
   ],
   "source": [
    "#making parent object and calling its functions\n",
    "c1 = Course(\"PF\",\"CS1002\",3)\n",
    "c1._Cinstructor(\"Hassan\",11092)\n",
    "c1.PublicDisplay()"
   ]
  },
  {
   "cell_type": "markdown",
   "id": "3e27320b",
   "metadata": {},
   "source": [
    "## Child Class"
   ]
  },
  {
   "cell_type": "code",
   "execution_count": 32,
   "id": "33fcc13d",
   "metadata": {},
   "outputs": [],
   "source": [
    "class Lab(Course):\n",
    "    def __init__(self,Cname,Ccode,Chours,CIname,CIid,Lname,Lcode):\n",
    "        super().__init__ (Cname,Ccode,Chours)\n",
    "        super()._Cinstructor(CIname,CIid)\n",
    "        self.Lname=Lname\n",
    "        self.Lcode=Lcode\n",
    "        \n",
    "    def display(self):\n",
    "        self.PublicDisplay()\n",
    "        print(f\"{self.Lname}, {self.Lcode} is the lab of the mentioned course\")\n",
    "    \n"
   ]
  },
  {
   "cell_type": "code",
   "execution_count": 38,
   "id": "00b702d9",
   "metadata": {},
   "outputs": [
    {
     "name": "stdout",
     "output_type": "stream",
     "text": [
      "PF, CS1002 having 3 credit hours is being taught by Hassan, 1109\n",
      "PF-Lab, CL1002 is the lab of the mentioned course\n",
      "\n",
      "Child caling parents function:\n",
      "PF, CS1002 having 3 credit hours is being taught by Hassan, 1109\n"
     ]
    }
   ],
   "source": [
    "L1=Lab(\"PF\",\"CS1002\",3,\"Hassan\",1109,\"PF-Lab\",\"CL1002\")\n",
    "#child calling own function\n",
    "L1.display()\n",
    "print()\n",
    "#Child calling parent function\n",
    "print(\"Child caling parents function:\")\n",
    "L1.PublicDisplay()"
   ]
  },
  {
   "cell_type": "markdown",
   "id": "5bd6d201",
   "metadata": {},
   "source": [
    "# Task-3 (enumerate)"
   ]
  },
  {
   "cell_type": "code",
   "execution_count": 22,
   "id": "4057d7f9",
   "metadata": {},
   "outputs": [
    {
     "name": "stdout",
     "output_type": "stream",
     "text": [
      "(0, 'shayan')\n",
      "(1, 'abbas')\n",
      "(2, 'zulfiqar')\n",
      "(3, 'qasim')\n"
     ]
    }
   ],
   "source": [
    "students = ['shayan','abbas', 'zulfiqar','qasim']\n",
    "def funcEnumerate(students):\n",
    "    for value in enumerate(students):\n",
    "        print(value)\n",
    "        \n",
    "funcEnumerate(students)"
   ]
  },
  {
   "cell_type": "markdown",
   "id": "64870f80",
   "metadata": {},
   "source": [
    "# Task-4"
   ]
  },
  {
   "cell_type": "code",
   "execution_count": 43,
   "id": "42828001",
   "metadata": {},
   "outputs": [],
   "source": [
    "#Given a list of strings, return the count of the number of strings\n",
    "#where the string length is 2 or more and the first and last chars of the\n",
    "#string are the same."
   ]
  },
  {
   "cell_type": "code",
   "execution_count": 12,
   "id": "9a9ebc47",
   "metadata": {},
   "outputs": [
    {
     "name": "stdout",
     "output_type": "stream",
     "text": [
      "2\n"
     ]
    }
   ],
   "source": [
    "list = [\"Hemim\",\"none\",\"random\",\"dead\",\"news\",\"strings\",\"n\"]\n",
    "\n",
    "def func(list):\n",
    "    count = 0\n",
    "    for i in list:\n",
    "        if (len(i) >= 2):\n",
    "            if(i[0]==i[-1]):\n",
    "                count+=1\n",
    "    return count\n",
    "\n",
    "print(func(list))\n",
    "            "
   ]
  },
  {
   "cell_type": "code",
   "execution_count": 44,
   "id": "5d55581d",
   "metadata": {},
   "outputs": [],
   "source": [
    "#Given a list of strings, return a list with the strings in sorted order,\n",
    "#except group all the strings that begin with 'x' first."
   ]
  },
  {
   "cell_type": "code",
   "execution_count": 30,
   "id": "7c6e4734",
   "metadata": {},
   "outputs": [
    {
     "data": {
      "text/plain": [
       "['Xandres', 'Xorew', 'Abb', 'Cat']"
      ]
     },
     "execution_count": 30,
     "metadata": {},
     "output_type": "execute_result"
    }
   ],
   "source": [
    "set=['Abb','Xandres','Cat','Xorew']\n",
    "sorted(set, key=lambda x: (not x.startswith('X'), x))"
   ]
  },
  {
   "cell_type": "code",
   "execution_count": 46,
   "id": "d836b6ec",
   "metadata": {},
   "outputs": [],
   "source": [
    "#Given a list of numbers, return a list where all adjacent == elements\n",
    "#have been reduced to a single element, so [1, 2, 2, 3] returns [1, 2, 3]."
   ]
  },
  {
   "cell_type": "code",
   "execution_count": 23,
   "id": "2b851b4f",
   "metadata": {},
   "outputs": [
    {
     "name": "stdout",
     "output_type": "stream",
     "text": [
      "[1, 2, 3, 4, 5, 6, 7, 8, 9]\n"
     ]
    }
   ],
   "source": [
    "list = [1,2,2,3,3,4,5,6,7,8,9]\n",
    "def funcList(list):\n",
    "    for i in range(len(list)):\n",
    "        try:\n",
    "            if (list[i]==list[i+1]):\n",
    "                del list[i]\n",
    "        except: \n",
    "            continue\n",
    "funcList(list)\n",
    "print(list)"
   ]
  },
  {
   "cell_type": "code",
   "execution_count": 47,
   "id": "3dd224d7",
   "metadata": {},
   "outputs": [],
   "source": [
    "#two lists sorted in increasing order, create and return a merged list of\n",
    "#all the elements in sorted order"
   ]
  },
  {
   "cell_type": "code",
   "execution_count": 26,
   "id": "8322b309",
   "metadata": {},
   "outputs": [
    {
     "name": "stdout",
     "output_type": "stream",
     "text": [
      "[1, 2, 3, 4, 5, 6, 7, 9, 11, 12, 14, 16]\n"
     ]
    }
   ],
   "source": [
    "l1 = [1,2,3,4,5,6,7]\n",
    "l2 = [9,11,12,14,16]\n",
    "def sortAdd(l1,l2):\n",
    "    l3 = (l1+l2)\n",
    "    l3.sort()\n",
    "    return l3\n",
    "print(sortAdd(l1,l2))"
   ]
  },
  {
   "cell_type": "markdown",
   "id": "d1b9459c",
   "metadata": {},
   "source": [
    "# Task-5"
   ]
  },
  {
   "cell_type": "code",
   "execution_count": 13,
   "id": "5855ba50",
   "metadata": {},
   "outputs": [],
   "source": [
    "import pandas as pd\n",
    "import numpy as np\n",
    "import matplotlib.pyplot as plt"
   ]
  },
  {
   "cell_type": "code",
   "execution_count": 2,
   "id": "7fcf7ea2",
   "metadata": {},
   "outputs": [
    {
     "data": {
      "text/html": [
       "<div>\n",
       "<style scoped>\n",
       "    .dataframe tbody tr th:only-of-type {\n",
       "        vertical-align: middle;\n",
       "    }\n",
       "\n",
       "    .dataframe tbody tr th {\n",
       "        vertical-align: top;\n",
       "    }\n",
       "\n",
       "    .dataframe thead th {\n",
       "        text-align: right;\n",
       "    }\n",
       "</style>\n",
       "<table border=\"1\" class=\"dataframe\">\n",
       "  <thead>\n",
       "    <tr style=\"text-align: right;\">\n",
       "      <th></th>\n",
       "      <th>country</th>\n",
       "      <th>beer_servings</th>\n",
       "      <th>spirit_servings</th>\n",
       "      <th>wine_servings</th>\n",
       "      <th>total_litres_of_pure_alcohol</th>\n",
       "      <th>continent</th>\n",
       "    </tr>\n",
       "  </thead>\n",
       "  <tbody>\n",
       "    <tr>\n",
       "      <th>0</th>\n",
       "      <td>Afghanistan</td>\n",
       "      <td>0</td>\n",
       "      <td>0</td>\n",
       "      <td>0</td>\n",
       "      <td>0.0</td>\n",
       "      <td>AS</td>\n",
       "    </tr>\n",
       "    <tr>\n",
       "      <th>1</th>\n",
       "      <td>Albania</td>\n",
       "      <td>89</td>\n",
       "      <td>132</td>\n",
       "      <td>54</td>\n",
       "      <td>4.9</td>\n",
       "      <td>EU</td>\n",
       "    </tr>\n",
       "    <tr>\n",
       "      <th>2</th>\n",
       "      <td>Algeria</td>\n",
       "      <td>25</td>\n",
       "      <td>0</td>\n",
       "      <td>14</td>\n",
       "      <td>0.7</td>\n",
       "      <td>AF</td>\n",
       "    </tr>\n",
       "    <tr>\n",
       "      <th>3</th>\n",
       "      <td>Andorra</td>\n",
       "      <td>245</td>\n",
       "      <td>138</td>\n",
       "      <td>312</td>\n",
       "      <td>12.4</td>\n",
       "      <td>EU</td>\n",
       "    </tr>\n",
       "    <tr>\n",
       "      <th>4</th>\n",
       "      <td>Angola</td>\n",
       "      <td>217</td>\n",
       "      <td>57</td>\n",
       "      <td>45</td>\n",
       "      <td>5.9</td>\n",
       "      <td>AF</td>\n",
       "    </tr>\n",
       "    <tr>\n",
       "      <th>...</th>\n",
       "      <td>...</td>\n",
       "      <td>...</td>\n",
       "      <td>...</td>\n",
       "      <td>...</td>\n",
       "      <td>...</td>\n",
       "      <td>...</td>\n",
       "    </tr>\n",
       "    <tr>\n",
       "      <th>188</th>\n",
       "      <td>Venezuela</td>\n",
       "      <td>333</td>\n",
       "      <td>100</td>\n",
       "      <td>3</td>\n",
       "      <td>7.7</td>\n",
       "      <td>SA</td>\n",
       "    </tr>\n",
       "    <tr>\n",
       "      <th>189</th>\n",
       "      <td>Vietnam</td>\n",
       "      <td>111</td>\n",
       "      <td>2</td>\n",
       "      <td>1</td>\n",
       "      <td>2.0</td>\n",
       "      <td>AS</td>\n",
       "    </tr>\n",
       "    <tr>\n",
       "      <th>190</th>\n",
       "      <td>Yemen</td>\n",
       "      <td>6</td>\n",
       "      <td>0</td>\n",
       "      <td>0</td>\n",
       "      <td>0.1</td>\n",
       "      <td>AS</td>\n",
       "    </tr>\n",
       "    <tr>\n",
       "      <th>191</th>\n",
       "      <td>Zambia</td>\n",
       "      <td>32</td>\n",
       "      <td>19</td>\n",
       "      <td>4</td>\n",
       "      <td>2.5</td>\n",
       "      <td>AF</td>\n",
       "    </tr>\n",
       "    <tr>\n",
       "      <th>192</th>\n",
       "      <td>Zimbabwe</td>\n",
       "      <td>64</td>\n",
       "      <td>18</td>\n",
       "      <td>4</td>\n",
       "      <td>4.7</td>\n",
       "      <td>AF</td>\n",
       "    </tr>\n",
       "  </tbody>\n",
       "</table>\n",
       "<p>193 rows × 6 columns</p>\n",
       "</div>"
      ],
      "text/plain": [
       "         country  beer_servings  spirit_servings  wine_servings  \\\n",
       "0    Afghanistan              0                0              0   \n",
       "1        Albania             89              132             54   \n",
       "2        Algeria             25                0             14   \n",
       "3        Andorra            245              138            312   \n",
       "4         Angola            217               57             45   \n",
       "..           ...            ...              ...            ...   \n",
       "188    Venezuela            333              100              3   \n",
       "189      Vietnam            111                2              1   \n",
       "190        Yemen              6                0              0   \n",
       "191       Zambia             32               19              4   \n",
       "192     Zimbabwe             64               18              4   \n",
       "\n",
       "     total_litres_of_pure_alcohol continent  \n",
       "0                             0.0        AS  \n",
       "1                             4.9        EU  \n",
       "2                             0.7        AF  \n",
       "3                            12.4        EU  \n",
       "4                             5.9        AF  \n",
       "..                            ...       ...  \n",
       "188                           7.7        SA  \n",
       "189                           2.0        AS  \n",
       "190                           0.1        AS  \n",
       "191                           2.5        AF  \n",
       "192                           4.7        AF  \n",
       "\n",
       "[193 rows x 6 columns]"
      ]
     },
     "execution_count": 2,
     "metadata": {},
     "output_type": "execute_result"
    }
   ],
   "source": [
    "df = pd.read_csv(\"drinks.csv\")\n",
    "df"
   ]
  },
  {
   "cell_type": "code",
   "execution_count": 3,
   "id": "cbd286df",
   "metadata": {},
   "outputs": [],
   "source": [
    "#Find the rows in the dataset"
   ]
  },
  {
   "cell_type": "code",
   "execution_count": 4,
   "id": "9c3dcfb9",
   "metadata": {},
   "outputs": [
    {
     "name": "stdout",
     "output_type": "stream",
     "text": [
      "193\n"
     ]
    }
   ],
   "source": [
    "rows=len(df)\n",
    "print(rows)"
   ]
  },
  {
   "cell_type": "code",
   "execution_count": 5,
   "id": "3095ccd7",
   "metadata": {},
   "outputs": [],
   "source": [
    "#Drop na values"
   ]
  },
  {
   "cell_type": "code",
   "execution_count": 6,
   "id": "15ae13dc",
   "metadata": {},
   "outputs": [
    {
     "data": {
      "text/html": [
       "<div>\n",
       "<style scoped>\n",
       "    .dataframe tbody tr th:only-of-type {\n",
       "        vertical-align: middle;\n",
       "    }\n",
       "\n",
       "    .dataframe tbody tr th {\n",
       "        vertical-align: top;\n",
       "    }\n",
       "\n",
       "    .dataframe thead th {\n",
       "        text-align: right;\n",
       "    }\n",
       "</style>\n",
       "<table border=\"1\" class=\"dataframe\">\n",
       "  <thead>\n",
       "    <tr style=\"text-align: right;\">\n",
       "      <th></th>\n",
       "      <th>country</th>\n",
       "      <th>beer_servings</th>\n",
       "      <th>spirit_servings</th>\n",
       "      <th>wine_servings</th>\n",
       "      <th>total_litres_of_pure_alcohol</th>\n",
       "      <th>continent</th>\n",
       "    </tr>\n",
       "  </thead>\n",
       "  <tbody>\n",
       "    <tr>\n",
       "      <th>0</th>\n",
       "      <td>Afghanistan</td>\n",
       "      <td>0</td>\n",
       "      <td>0</td>\n",
       "      <td>0</td>\n",
       "      <td>0.0</td>\n",
       "      <td>AS</td>\n",
       "    </tr>\n",
       "    <tr>\n",
       "      <th>1</th>\n",
       "      <td>Albania</td>\n",
       "      <td>89</td>\n",
       "      <td>132</td>\n",
       "      <td>54</td>\n",
       "      <td>4.9</td>\n",
       "      <td>EU</td>\n",
       "    </tr>\n",
       "    <tr>\n",
       "      <th>2</th>\n",
       "      <td>Algeria</td>\n",
       "      <td>25</td>\n",
       "      <td>0</td>\n",
       "      <td>14</td>\n",
       "      <td>0.7</td>\n",
       "      <td>AF</td>\n",
       "    </tr>\n",
       "    <tr>\n",
       "      <th>3</th>\n",
       "      <td>Andorra</td>\n",
       "      <td>245</td>\n",
       "      <td>138</td>\n",
       "      <td>312</td>\n",
       "      <td>12.4</td>\n",
       "      <td>EU</td>\n",
       "    </tr>\n",
       "    <tr>\n",
       "      <th>4</th>\n",
       "      <td>Angola</td>\n",
       "      <td>217</td>\n",
       "      <td>57</td>\n",
       "      <td>45</td>\n",
       "      <td>5.9</td>\n",
       "      <td>AF</td>\n",
       "    </tr>\n",
       "    <tr>\n",
       "      <th>...</th>\n",
       "      <td>...</td>\n",
       "      <td>...</td>\n",
       "      <td>...</td>\n",
       "      <td>...</td>\n",
       "      <td>...</td>\n",
       "      <td>...</td>\n",
       "    </tr>\n",
       "    <tr>\n",
       "      <th>188</th>\n",
       "      <td>Venezuela</td>\n",
       "      <td>333</td>\n",
       "      <td>100</td>\n",
       "      <td>3</td>\n",
       "      <td>7.7</td>\n",
       "      <td>SA</td>\n",
       "    </tr>\n",
       "    <tr>\n",
       "      <th>189</th>\n",
       "      <td>Vietnam</td>\n",
       "      <td>111</td>\n",
       "      <td>2</td>\n",
       "      <td>1</td>\n",
       "      <td>2.0</td>\n",
       "      <td>AS</td>\n",
       "    </tr>\n",
       "    <tr>\n",
       "      <th>190</th>\n",
       "      <td>Yemen</td>\n",
       "      <td>6</td>\n",
       "      <td>0</td>\n",
       "      <td>0</td>\n",
       "      <td>0.1</td>\n",
       "      <td>AS</td>\n",
       "    </tr>\n",
       "    <tr>\n",
       "      <th>191</th>\n",
       "      <td>Zambia</td>\n",
       "      <td>32</td>\n",
       "      <td>19</td>\n",
       "      <td>4</td>\n",
       "      <td>2.5</td>\n",
       "      <td>AF</td>\n",
       "    </tr>\n",
       "    <tr>\n",
       "      <th>192</th>\n",
       "      <td>Zimbabwe</td>\n",
       "      <td>64</td>\n",
       "      <td>18</td>\n",
       "      <td>4</td>\n",
       "      <td>4.7</td>\n",
       "      <td>AF</td>\n",
       "    </tr>\n",
       "  </tbody>\n",
       "</table>\n",
       "<p>170 rows × 6 columns</p>\n",
       "</div>"
      ],
      "text/plain": [
       "         country  beer_servings  spirit_servings  wine_servings  \\\n",
       "0    Afghanistan              0                0              0   \n",
       "1        Albania             89              132             54   \n",
       "2        Algeria             25                0             14   \n",
       "3        Andorra            245              138            312   \n",
       "4         Angola            217               57             45   \n",
       "..           ...            ...              ...            ...   \n",
       "188    Venezuela            333              100              3   \n",
       "189      Vietnam            111                2              1   \n",
       "190        Yemen              6                0              0   \n",
       "191       Zambia             32               19              4   \n",
       "192     Zimbabwe             64               18              4   \n",
       "\n",
       "     total_litres_of_pure_alcohol continent  \n",
       "0                             0.0        AS  \n",
       "1                             4.9        EU  \n",
       "2                             0.7        AF  \n",
       "3                            12.4        EU  \n",
       "4                             5.9        AF  \n",
       "..                            ...       ...  \n",
       "188                           7.7        SA  \n",
       "189                           2.0        AS  \n",
       "190                           0.1        AS  \n",
       "191                           2.5        AF  \n",
       "192                           4.7        AF  \n",
       "\n",
       "[170 rows x 6 columns]"
      ]
     },
     "execution_count": 6,
     "metadata": {},
     "output_type": "execute_result"
    }
   ],
   "source": [
    "df = df.dropna()\n",
    "df"
   ]
  },
  {
   "cell_type": "code",
   "execution_count": 7,
   "id": "925e5aa0",
   "metadata": {},
   "outputs": [],
   "source": [
    "#A function that takes name of the coloumn and outputs the data in the column"
   ]
  },
  {
   "cell_type": "code",
   "execution_count": 8,
   "id": "d0a26a26",
   "metadata": {},
   "outputs": [
    {
     "data": {
      "text/html": [
       "<div>\n",
       "<style scoped>\n",
       "    .dataframe tbody tr th:only-of-type {\n",
       "        vertical-align: middle;\n",
       "    }\n",
       "\n",
       "    .dataframe tbody tr th {\n",
       "        vertical-align: top;\n",
       "    }\n",
       "\n",
       "    .dataframe thead th {\n",
       "        text-align: right;\n",
       "    }\n",
       "</style>\n",
       "<table border=\"1\" class=\"dataframe\">\n",
       "  <thead>\n",
       "    <tr style=\"text-align: right;\">\n",
       "      <th></th>\n",
       "      <th>country</th>\n",
       "    </tr>\n",
       "  </thead>\n",
       "  <tbody>\n",
       "    <tr>\n",
       "      <th>0</th>\n",
       "      <td>Afghanistan</td>\n",
       "    </tr>\n",
       "    <tr>\n",
       "      <th>1</th>\n",
       "      <td>Albania</td>\n",
       "    </tr>\n",
       "    <tr>\n",
       "      <th>2</th>\n",
       "      <td>Algeria</td>\n",
       "    </tr>\n",
       "    <tr>\n",
       "      <th>3</th>\n",
       "      <td>Andorra</td>\n",
       "    </tr>\n",
       "    <tr>\n",
       "      <th>4</th>\n",
       "      <td>Angola</td>\n",
       "    </tr>\n",
       "    <tr>\n",
       "      <th>...</th>\n",
       "      <td>...</td>\n",
       "    </tr>\n",
       "    <tr>\n",
       "      <th>188</th>\n",
       "      <td>Venezuela</td>\n",
       "    </tr>\n",
       "    <tr>\n",
       "      <th>189</th>\n",
       "      <td>Vietnam</td>\n",
       "    </tr>\n",
       "    <tr>\n",
       "      <th>190</th>\n",
       "      <td>Yemen</td>\n",
       "    </tr>\n",
       "    <tr>\n",
       "      <th>191</th>\n",
       "      <td>Zambia</td>\n",
       "    </tr>\n",
       "    <tr>\n",
       "      <th>192</th>\n",
       "      <td>Zimbabwe</td>\n",
       "    </tr>\n",
       "  </tbody>\n",
       "</table>\n",
       "<p>170 rows × 1 columns</p>\n",
       "</div>"
      ],
      "text/plain": [
       "         country\n",
       "0    Afghanistan\n",
       "1        Albania\n",
       "2        Algeria\n",
       "3        Andorra\n",
       "4         Angola\n",
       "..           ...\n",
       "188    Venezuela\n",
       "189      Vietnam\n",
       "190        Yemen\n",
       "191       Zambia\n",
       "192     Zimbabwe\n",
       "\n",
       "[170 rows x 1 columns]"
      ]
     },
     "execution_count": 8,
     "metadata": {},
     "output_type": "execute_result"
    }
   ],
   "source": [
    "def colname (x):\n",
    "    return df[[x]]\n",
    "\n",
    "colname(\"country\")"
   ]
  },
  {
   "cell_type": "code",
   "execution_count": 9,
   "id": "7daa342f",
   "metadata": {},
   "outputs": [],
   "source": [
    "#Plot histograms of data"
   ]
  },
  {
   "cell_type": "code",
   "execution_count": 21,
   "id": "9628d2a6",
   "metadata": {},
   "outputs": [
    {
     "data": {
      "text/plain": [
       "<AxesSubplot:ylabel='Frequency'>"
      ]
     },
     "execution_count": 21,
     "metadata": {},
     "output_type": "execute_result"
    },
    {
     "data": {
      "image/png": "[encoded data removed]",
      "text/plain": [
       "<Figure size 432x288 with 1 Axes>"
      ]
     },
     "metadata": {
      "needs_background": "light"
     },
     "output_type": "display_data"
    }
   ],
   "source": [
    "df.plot.hist()"
   ]
  },
  {
   "cell_type": "code",
   "execution_count": null,
   "id": "d48fdbd8",
   "metadata": {},
   "outputs": [],
   "source": [
    "#Plot a scatter plot in 2d and 3d"
   ]
  },
  {
   "cell_type": "code",
   "execution_count": 17,
   "id": "14265362",
   "metadata": {},
   "outputs": [
    {
     "data": {
      "text/plain": [
       "<matplotlib.collections.PathCollection at 0x1ced7246d00>"
      ]
     },
     "execution_count": 17,
     "metadata": {},
     "output_type": "execute_result"
    },
    {
     "data": {
      "image/png": "[encoded data removed]",
      "text/plain": [
       "<Figure size 432x288 with 1 Axes>"
      ]
     },
     "metadata": {
      "needs_background": "light"
     },
     "output_type": "display_data"
    }
   ],
   "source": [
    "plt.scatter( df['country'],df['wine_servings'], color = \"red\")"
   ]
  },
  {
   "cell_type": "code",
   "execution_count": 20,
   "id": "3610a102",
   "metadata": {},
   "outputs": [
    {
     "data": {
      "text/plain": [
       "<mpl_toolkits.mplot3d.art3d.Path3DCollection at 0x1ced7bc06d0>"
      ]
     },
     "execution_count": 20,
     "metadata": {},
     "output_type": "execute_result"
    },
    {
     "data": {
      "image/png": "[encoded data removed]",
      "text/plain": [
       "<Figure size 432x288 with 1 Axes>"
      ]
     },
     "metadata": {
      "needs_background": "light"
     },
     "output_type": "display_data"
    }
   ],
   "source": [
    "axes = plt.axes(projection =\"3d\")\n",
    "axes.scatter3D(df['total_litres_of_pure_alcohol'], df['wine_servings'], df['spirit_servings'], color = \"red\")"
   ]
  },
  {
   "cell_type": "code",
   "execution_count": 52,
   "id": "a230652a",
   "metadata": {},
   "outputs": [],
   "source": [
    "#Plot a pie and a bar chart"
   ]
  },
  {
   "cell_type": "code",
   "execution_count": 14,
   "id": "16570d1a",
   "metadata": {},
   "outputs": [
    {
     "data": {
      "text/plain": [
       "[]"
      ]
     },
     "execution_count": 14,
     "metadata": {},
     "output_type": "execute_result"
    },
    {
     "data": {
      "image/png": "[encoded data removed]",
      "text/plain": [
       "<Figure size 432x288 with 1 Axes>"
      ]
     },
     "metadata": {},
     "output_type": "display_data"
    }
   ],
   "source": [
    "plt.pie(df['wine_servings'],labels=df['country'])\n",
    "plt.plot()"
   ]
  },
  {
   "cell_type": "code",
   "execution_count": 15,
   "id": "f82d6a4c",
   "metadata": {},
   "outputs": [
    {
     "data": {
      "text/plain": [
       "<BarContainer object of 170 artists>"
      ]
     },
     "execution_count": 15,
     "metadata": {},
     "output_type": "execute_result"
    },
    {
     "data": {
      "image/png": "[encoded data removed]",
      "text/plain": [
       "<Figure size 432x288 with 1 Axes>"
      ]
     },
     "metadata": {
      "needs_background": "light"
     },
     "output_type": "display_data"
    }
   ],
   "source": [
    "plt.bar(df['country'],df['wine_servings'])"
   ]
  }
 ],
 "metadata": {
  "kernelspec": {
   "display_name": "Python 3 (ipykernel)",
   "language": "python",
   "name": "python3"
  },
  "language_info": {
   "codemirror_mode": {
    "name": "ipython",
    "version": 3
   },
   "file_extension": ".py",
   "mimetype": "text/x-python",
   "name": "python",
   "nbconvert_exporter": "python",
   "pygments_lexer": "ipython3",
   "version": "3.9.7"
  }
 },
 "nbformat": 4,
 "nbformat_minor": 5
}
